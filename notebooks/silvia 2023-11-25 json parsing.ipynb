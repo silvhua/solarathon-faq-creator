{
 "cells": [
  {
   "attachments": {},
   "cell_type": "markdown",
   "metadata": {},
   "source": [
    "# Title\n",
    "[]()"
   ]
  },
  {
   "cell_type": "code",
   "execution_count": 1,
   "metadata": {},
   "outputs": [],
   "source": [
    "import json\n",
    "def load_json(filename, filepath):\n",
    "    \"\"\"\n",
    "    Load a JSON file using specified file path copied from windows file explorer.\n",
    "    Back slashes in file path will be converted to forward slashes.\n",
    "\n",
    "    Arguments:\n",
    "    - filepath (raw string): Use the format r'<path>'.\n",
    "    - filename (string).\n",
    "    \"\"\"\n",
    "    filename = f'{filepath}/'.replace('\\\\','/')+filename\n",
    "    with open(filename) as file:\n",
    "        return json.load(file)\n",
    "\n",
    "filepath = '../data/testing_2023-11-24'\n",
    "filename = 'llm_summary_2023-11-24_2314.json'\n",
    "messages = load_json(filename, filepath)"
   ]
  },
  {
   "cell_type": "code",
   "execution_count": 4,
   "metadata": {},
   "outputs": [
    {
     "name": "stdout",
     "output_type": "stream",
     "text": [
      "<class 'list'>\n"
     ]
    },
    {
     "data": {
      "text/plain": [
       "[{'question': 'When embedded with FastAPI, is there a different port that Solara loads or is it the same port as uvicorn?',\n",
       "  'answer': 'Solara loads on the same port as uvicorn.'},\n",
       " {'question': 'Why does Solara not load when deployed as a Docker image?',\n",
       "  'answer': 'There may be an issue with websocket requesting jupyter widgets. Make sure you use the same browser and check the docker container logs for any errors.'},\n",
       " {'question': 'Is there a reverse proxy in between Solara and the server?',\n",
       "  'answer': 'Yes, there is a reverse proxy in production. Make sure to set up firewall rules as well.'},\n",
       " {'question': 'How can I make InputText multiline in Solara?',\n",
       "  'answer': 'There seems to be an issue with making InputText multiline. CSS class may not work. Further assistance is recommended.'},\n",
       " {'question': \"Why am I getting an error 'Cannot read properties of undefined (reading 'extend')' after updating Solara to version 1.23.0?\",\n",
       "  'answer': 'This issue may be related to the update. Try disabling cache and reloading the page. If the issue persists, it is recommended to seek further assistance.'},\n",
       " {'question': 'What are the requirements for Solara?',\n",
       "  'answer': 'Solara has a few requirements, including Altair. It is recommended to install all the required dependencies for full functionality.'},\n",
       " {'question': \"Can't load Solara after upgrading to version 1.23.0. What should I do?\",\n",
       "  'answer': 'If you are experiencing issues after upgrading to version 1.23.0, try reverting back to version 1.22.0. It is recommended to follow the upgrade steps provided or seek further assistance.'}]"
      ]
     },
     "execution_count": 4,
     "metadata": {},
     "output_type": "execute_result"
    }
   ],
   "source": [
    "print(type(messages))\n",
    "messages"
   ]
  },
  {
   "cell_type": "code",
   "execution_count": null,
   "metadata": {},
   "outputs": [],
   "source": []
  },
  {
   "cell_type": "code",
   "execution_count": null,
   "metadata": {},
   "outputs": [],
   "source": []
  },
  {
   "cell_type": "code",
   "execution_count": null,
   "metadata": {},
   "outputs": [],
   "source": []
  },
  {
   "cell_type": "code",
   "execution_count": null,
   "metadata": {},
   "outputs": [],
   "source": []
  },
  {
   "cell_type": "code",
   "execution_count": null,
   "metadata": {},
   "outputs": [],
   "source": []
  },
  {
   "cell_type": "code",
   "execution_count": null,
   "metadata": {},
   "outputs": [],
   "source": []
  },
  {
   "cell_type": "code",
   "execution_count": null,
   "metadata": {},
   "outputs": [],
   "source": []
  },
  {
   "cell_type": "code",
   "execution_count": null,
   "metadata": {},
   "outputs": [],
   "source": []
  },
  {
   "cell_type": "code",
   "execution_count": null,
   "metadata": {},
   "outputs": [],
   "source": []
  },
  {
   "cell_type": "code",
   "execution_count": null,
   "metadata": {},
   "outputs": [],
   "source": []
  },
  {
   "cell_type": "code",
   "execution_count": null,
   "metadata": {},
   "outputs": [],
   "source": []
  },
  {
   "cell_type": "code",
   "execution_count": null,
   "metadata": {},
   "outputs": [],
   "source": []
  },
  {
   "cell_type": "code",
   "execution_count": null,
   "metadata": {},
   "outputs": [],
   "source": []
  },
  {
   "cell_type": "code",
   "execution_count": null,
   "metadata": {},
   "outputs": [],
   "source": []
  },
  {
   "cell_type": "code",
   "execution_count": null,
   "metadata": {},
   "outputs": [],
   "source": []
  },
  {
   "cell_type": "code",
   "execution_count": null,
   "metadata": {},
   "outputs": [],
   "source": []
  },
  {
   "cell_type": "code",
   "execution_count": null,
   "metadata": {},
   "outputs": [],
   "source": []
  },
  {
   "cell_type": "code",
   "execution_count": null,
   "metadata": {},
   "outputs": [],
   "source": []
  },
  {
   "cell_type": "code",
   "execution_count": null,
   "metadata": {},
   "outputs": [],
   "source": []
  },
  {
   "cell_type": "code",
   "execution_count": null,
   "metadata": {},
   "outputs": [],
   "source": []
  },
  {
   "attachments": {},
   "cell_type": "markdown",
   "metadata": {},
   "source": [
    "# *End of Page*"
   ]
  }
 ],
 "metadata": {
  "kernelspec": {
   "display_name": "solarathon",
   "language": "python",
   "name": "solarathon"
  },
  "language_info": {
   "codemirror_mode": {
    "name": "ipython",
    "version": 3
   },
   "file_extension": ".py",
   "mimetype": "text/x-python",
   "name": "python",
   "nbconvert_exporter": "python",
   "pygments_lexer": "ipython3",
   "version": "3.10.12"
  },
  "orig_nbformat": 4,
  "vscode": {
   "interpreter": {
    "hash": "11938c6bc6919ae2720b4d5011047913343b08a43b18698fd82dedb0d4417594"
   }
  }
 },
 "nbformat": 4,
 "nbformat_minor": 2
}
