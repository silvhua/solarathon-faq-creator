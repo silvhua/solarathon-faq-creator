{
 "cells": [
  {
   "cell_type": "markdown",
   "metadata": {},
   "source": [
    "# 2023-11-20"
   ]
  },
  {
   "cell_type": "code",
   "execution_count": 1,
   "metadata": {},
   "outputs": [
    {
     "name": "stderr",
     "output_type": "stream",
     "text": [
      "/home/silvhua/solarathon/lib/python3.10/site-packages/tqdm/auto.py:21: TqdmWarning: IProgress not found. Please update jupyter and ipywidgets. See https://ipywidgets.readthedocs.io/en/stable/user_install.html\n",
      "  from .autonotebook import tqdm as notebook_tqdm\n",
      "None of PyTorch, TensorFlow >= 2.0, or Flax have been found. Models won't be available and only tokenizers, configuration and file/data utilities can be used.\n"
     ]
    }
   ],
   "source": [
    "from haystack.pipelines import Pipeline"
   ]
  },
  {
   "cell_type": "code",
   "execution_count": 2,
   "metadata": {},
   "outputs": [
    {
     "ename": "NameError",
     "evalue": "name 'text_converter' is not defined",
     "output_type": "error",
     "traceback": [
      "\u001b[0;31m---------------------------------------------------------------------------\u001b[0m",
      "\u001b[0;31mNameError\u001b[0m                                 Traceback (most recent call last)",
      "\u001b[1;32mUntitled-1.ipynb Cell 2\u001b[0m line \u001b[0;36m2\n\u001b[1;32m      <a href='vscode-notebook-cell:Untitled-1.ipynb?jupyter-notebook#X10sdW50aXRsZWQ%3D?line=0'>1</a>\u001b[0m p \u001b[39m=\u001b[39m Pipeline()\n\u001b[0;32m----> <a href='vscode-notebook-cell:Untitled-1.ipynb?jupyter-notebook#X10sdW50aXRsZWQ%3D?line=1'>2</a>\u001b[0m p\u001b[39m.\u001b[39madd_node(component\u001b[39m=\u001b[39mtext_converter, name\u001b[39m=\u001b[39m\u001b[39m\"\u001b[39m\u001b[39mTextConverter\u001b[39m\u001b[39m\"\u001b[39m, inputs\u001b[39m=\u001b[39m[\u001b[39m\"\u001b[39m\u001b[39mFile\u001b[39m\u001b[39m\"\u001b[39m])\n\u001b[1;32m      <a href='vscode-notebook-cell:Untitled-1.ipynb?jupyter-notebook#X10sdW50aXRsZWQ%3D?line=2'>3</a>\u001b[0m p\u001b[39m.\u001b[39madd_node(component\u001b[39m=\u001b[39mpreprocessor, name\u001b[39m=\u001b[39m\u001b[39m\"\u001b[39m\u001b[39mPreProcessor\u001b[39m\u001b[39m\"\u001b[39m, inputs\u001b[39m=\u001b[39m[\u001b[39m\"\u001b[39m\u001b[39mTextConverter\u001b[39m\u001b[39m\"\u001b[39m])\n\u001b[1;32m      <a href='vscode-notebook-cell:Untitled-1.ipynb?jupyter-notebook#X10sdW50aXRsZWQ%3D?line=3'>4</a>\u001b[0m p\u001b[39m.\u001b[39madd_node(component\u001b[39m=\u001b[39mdocument_classifier, name\u001b[39m=\u001b[39m\u001b[39m\"\u001b[39m\u001b[39mDocumentClassifier\u001b[39m\u001b[39m\"\u001b[39m, inputs\u001b[39m=\u001b[39m[\u001b[39m\"\u001b[39m\u001b[39mPreProcessor\u001b[39m\u001b[39m\"\u001b[39m])\n",
      "\u001b[0;31mNameError\u001b[0m: name 'text_converter' is not defined"
     ]
    }
   ],
   "source": [
    "\n",
    "\n",
    "p = Pipeline()\n",
    "p.add_node(component=text_converter, name=\"TextConverter\", inputs=[\"File\"])\n",
    "p.add_node(component=preprocessor, name=\"PreProcessor\", inputs=[\"TextConverter\"]) # https://docs.haystack.deepset.ai/docs/preprocessor\n",
    "p.add_node(component=document_classifier, name=\"DocumentClassifier\", inputs=[\"PreProcessor\"])\n",
    "p.add_node(component=document_store, name=\"DocumentStore\", inputs=[\"DocumentClassifier\"])\n",
    "p.add_node(component=retriever, name=\"Retriever\", inputs=[\"PreProcessor\"])\n",
    "\n",
    "# p.run(file_paths=[\"filename.txt\"])"
   ]
  },
  {
   "cell_type": "code",
   "execution_count": 3,
   "metadata": {},
   "outputs": [],
   "source": [
    "from haystack.nodes import TextConverter\n",
    "p = Pipeline()\n",
    "text_converter = TextConverter()\n",
    "p.add_node(component=text_converter, name=\"TextConverter\", inputs=[\"File\"])"
   ]
  },
  {
   "cell_type": "code",
   "execution_count": 4,
   "metadata": {},
   "outputs": [
    {
     "data": {
      "text/plain": [
       "<haystack.pipelines.base.Pipeline at 0x7f4c973bb5e0>"
      ]
     },
     "execution_count": 4,
     "metadata": {},
     "output_type": "execute_result"
    }
   ],
   "source": [
    "p"
   ]
  },
  {
   "cell_type": "markdown",
   "metadata": {},
   "source": [
    "# 2023-11-21"
   ]
  },
  {
   "cell_type": "markdown",
   "metadata": {},
   "source": [
    "## Iteration 1"
   ]
  },
  {
   "cell_type": "code",
   "execution_count": 1,
   "metadata": {},
   "outputs": [
    {
     "name": "stderr",
     "output_type": "stream",
     "text": [
      "None of PyTorch, TensorFlow >= 2.0, or Flax have been found. Models won't be available and only tokenizers, configuration and file/data utilities can be used.\n"
     ]
    }
   ],
   "source": [
    "from haystack.pipelines import Pipeline\n",
    "from haystack.nodes import TextConverter\n",
    "from haystack.nodes import PreProcessor\n",
    "from haystack.document_stores import FAISSDocumentStore"
   ]
  },
  {
   "cell_type": "code",
   "execution_count": 8,
   "metadata": {},
   "outputs": [],
   "source": [
    "\n",
    "text_converter = TextConverter() # https://docs.haystack.deepset.ai/docs/file_converters\n",
    "\n",
    "preprocessor = PreProcessor( # https://docs.haystack.deepset.ai/docs/preprocessor\n",
    "    clean_empty_lines=True,\n",
    "    clean_whitespace=True,\n",
    "    clean_header_footer=True,\n",
    "  \tremove_substrings=None,\n",
    "    split_by=None, # Unit for splitting the document. Can be \"word\", \"sentence\", or \"passage\". Set to None to disable splitting.\n",
    "    split_length=200,\n",
    "    split_respect_sentence_boundary=True,\n",
    "    split_overlap=0,\n",
    "  \tmax_chars_check = None\n",
    ")"
   ]
  },
  {
   "cell_type": "code",
   "execution_count": 3,
   "metadata": {},
   "outputs": [],
   "source": [
    "from datetime import datetime\n",
    "\n",
    "def append_timestamp(string):\n",
    "    timestamp = datetime.now().strftime(\"%Y-%m-%d_%H%M\")\n",
    "    return f'{string}_{timestamp}' \n",
    "\n",
    "index_filename = append_timestamp('journal_article_index')\n",
    "config_filename = append_timestamp('journal_article_config')\n",
    "path = '../data'\n",
    "document_store = FAISSDocumentStore(faiss_index_factory_str=\"Flat\")\n",
    "document_store.save(index_path=f'{path}/{index_filename}', config_path=f'{path}/{config_filename}')"
   ]
  },
  {
   "cell_type": "code",
   "execution_count": 7,
   "metadata": {},
   "outputs": [
    {
     "name": "stderr",
     "output_type": "stream",
     "text": [
      "Converting files: 100%|██████████| 1/1 [00:00<00:00, 110.42it/s]\n"
     ]
    },
    {
     "ename": "Exception",
     "evalue": "Exception while running node 'PreProcessor': '>' not supported between instances of 'int' and 'NoneType'\nEnable debug logging to see the data that was passed when the pipeline failed.",
     "output_type": "error",
     "traceback": [
      "\u001b[0;31m---------------------------------------------------------------------------\u001b[0m",
      "\u001b[0;31mTypeError\u001b[0m                                 Traceback (most recent call last)",
      "File \u001b[0;32m~/solarathon/lib/python3.10/site-packages/haystack/pipelines/base.py:567\u001b[0m, in \u001b[0;36mPipeline.run\u001b[0;34m(self, query, file_paths, labels, documents, meta, params, debug)\u001b[0m\n\u001b[1;32m    566\u001b[0m start \u001b[39m=\u001b[39m time()\n\u001b[0;32m--> 567\u001b[0m node_output, stream_id \u001b[39m=\u001b[39m \u001b[39mself\u001b[39;49m\u001b[39m.\u001b[39;49m_run_node(node_id, node_input)\n\u001b[1;32m    568\u001b[0m \u001b[39mif\u001b[39;00m \u001b[39m\"\u001b[39m\u001b[39m_debug\u001b[39m\u001b[39m\"\u001b[39m \u001b[39min\u001b[39;00m node_output \u001b[39mand\u001b[39;00m node_id \u001b[39min\u001b[39;00m node_output[\u001b[39m\"\u001b[39m\u001b[39m_debug\u001b[39m\u001b[39m\"\u001b[39m]:\n",
      "File \u001b[0;32m~/solarathon/lib/python3.10/site-packages/haystack/pipelines/base.py:469\u001b[0m, in \u001b[0;36mPipeline._run_node\u001b[0;34m(self, node_id, node_input)\u001b[0m\n\u001b[1;32m    468\u001b[0m \u001b[39mdef\u001b[39;00m \u001b[39m_run_node\u001b[39m(\u001b[39mself\u001b[39m, node_id: \u001b[39mstr\u001b[39m, node_input: Dict[\u001b[39mstr\u001b[39m, Any]) \u001b[39m-\u001b[39m\u001b[39m>\u001b[39m Tuple[Dict, \u001b[39mstr\u001b[39m]:\n\u001b[0;32m--> 469\u001b[0m     \u001b[39mreturn\u001b[39;00m \u001b[39mself\u001b[39;49m\u001b[39m.\u001b[39;49mgraph\u001b[39m.\u001b[39;49mnodes[node_id][\u001b[39m\"\u001b[39;49m\u001b[39mcomponent\u001b[39;49m\u001b[39m\"\u001b[39;49m]\u001b[39m.\u001b[39;49m_dispatch_run(\u001b[39m*\u001b[39;49m\u001b[39m*\u001b[39;49mnode_input)\n",
      "File \u001b[0;32m~/solarathon/lib/python3.10/site-packages/haystack/nodes/base.py:201\u001b[0m, in \u001b[0;36mBaseComponent._dispatch_run\u001b[0;34m(self, **kwargs)\u001b[0m\n\u001b[1;32m    197\u001b[0m \u001b[39m\u001b[39m\u001b[39m\"\"\"\u001b[39;00m\n\u001b[1;32m    198\u001b[0m \u001b[39mThe Pipelines call this method when run() is executed. This method in turn executes the _dispatch_run_general()\u001b[39;00m\n\u001b[1;32m    199\u001b[0m \u001b[39mmethod with the correct run method.\u001b[39;00m\n\u001b[1;32m    200\u001b[0m \u001b[39m\"\"\"\u001b[39;00m\n\u001b[0;32m--> 201\u001b[0m \u001b[39mreturn\u001b[39;00m \u001b[39mself\u001b[39;49m\u001b[39m.\u001b[39;49m_dispatch_run_general(\u001b[39mself\u001b[39;49m\u001b[39m.\u001b[39;49mrun, \u001b[39m*\u001b[39;49m\u001b[39m*\u001b[39;49mkwargs)\n",
      "File \u001b[0;32m~/solarathon/lib/python3.10/site-packages/haystack/nodes/base.py:245\u001b[0m, in \u001b[0;36mBaseComponent._dispatch_run_general\u001b[0;34m(self, run_method, **kwargs)\u001b[0m\n\u001b[1;32m    243\u001b[0m         run_inputs[key] \u001b[39m=\u001b[39m value\n\u001b[0;32m--> 245\u001b[0m output, stream \u001b[39m=\u001b[39m run_method(\u001b[39m*\u001b[39;49m\u001b[39m*\u001b[39;49mrun_inputs, \u001b[39m*\u001b[39;49m\u001b[39m*\u001b[39;49mrun_params)\n\u001b[1;32m    247\u001b[0m \u001b[39m# Collect debug information\u001b[39;00m\n",
      "File \u001b[0;32m~/solarathon/lib/python3.10/site-packages/haystack/nodes/preprocessor/base.py:66\u001b[0m, in \u001b[0;36mBasePreProcessor.run\u001b[0;34m(self, documents, clean_whitespace, clean_header_footer, clean_empty_lines, split_by, split_length, split_overlap, split_respect_sentence_boundary, id_hash_keys)\u001b[0m\n\u001b[1;32m     54\u001b[0m \u001b[39mdef\u001b[39;00m \u001b[39mrun\u001b[39m(  \u001b[39m# type: ignore\u001b[39;00m\n\u001b[1;32m     55\u001b[0m     \u001b[39mself\u001b[39m,\n\u001b[1;32m     56\u001b[0m     documents: Union[\u001b[39mdict\u001b[39m, Document, List[Union[\u001b[39mdict\u001b[39m, Document]]],\n\u001b[0;32m   (...)\u001b[0m\n\u001b[1;32m     64\u001b[0m     id_hash_keys: Optional[List[\u001b[39mstr\u001b[39m]] \u001b[39m=\u001b[39m \u001b[39mNone\u001b[39;00m,\n\u001b[1;32m     65\u001b[0m ):\n\u001b[0;32m---> 66\u001b[0m     processed_documents \u001b[39m=\u001b[39m \u001b[39mself\u001b[39;49m\u001b[39m.\u001b[39;49mprocess(\n\u001b[1;32m     67\u001b[0m         documents\u001b[39m=\u001b[39;49mdocuments,\n\u001b[1;32m     68\u001b[0m         clean_whitespace\u001b[39m=\u001b[39;49mclean_whitespace,\n\u001b[1;32m     69\u001b[0m         clean_header_footer\u001b[39m=\u001b[39;49mclean_header_footer,\n\u001b[1;32m     70\u001b[0m         clean_empty_lines\u001b[39m=\u001b[39;49mclean_empty_lines,\n\u001b[1;32m     71\u001b[0m         split_by\u001b[39m=\u001b[39;49msplit_by,\n\u001b[1;32m     72\u001b[0m         split_length\u001b[39m=\u001b[39;49msplit_length,\n\u001b[1;32m     73\u001b[0m         split_overlap\u001b[39m=\u001b[39;49msplit_overlap,\n\u001b[1;32m     74\u001b[0m         split_respect_sentence_boundary\u001b[39m=\u001b[39;49msplit_respect_sentence_boundary,\n\u001b[1;32m     75\u001b[0m         id_hash_keys\u001b[39m=\u001b[39;49mid_hash_keys,\n\u001b[1;32m     76\u001b[0m     )\n\u001b[1;32m     77\u001b[0m     result \u001b[39m=\u001b[39m {\u001b[39m\"\u001b[39m\u001b[39mdocuments\u001b[39m\u001b[39m\"\u001b[39m: processed_documents}\n",
      "File \u001b[0;32m~/solarathon/lib/python3.10/site-packages/haystack/nodes/preprocessor/preprocessor.py:178\u001b[0m, in \u001b[0;36mPreProcessor.process\u001b[0;34m(self, documents, clean_whitespace, clean_header_footer, clean_empty_lines, remove_substrings, split_by, split_length, split_overlap, split_respect_sentence_boundary, id_hash_keys)\u001b[0m\n\u001b[1;32m    177\u001b[0m \u001b[39melif\u001b[39;00m \u001b[39misinstance\u001b[39m(documents, \u001b[39mlist\u001b[39m):\n\u001b[0;32m--> 178\u001b[0m     ret \u001b[39m=\u001b[39m \u001b[39mself\u001b[39;49m\u001b[39m.\u001b[39;49m_process_batch(documents\u001b[39m=\u001b[39;49m\u001b[39mlist\u001b[39;49m(documents), id_hash_keys\u001b[39m=\u001b[39;49mid_hash_keys, \u001b[39m*\u001b[39;49m\u001b[39m*\u001b[39;49mkwargs)\n\u001b[1;32m    179\u001b[0m \u001b[39melse\u001b[39;00m:\n",
      "File \u001b[0;32m~/solarathon/lib/python3.10/site-packages/haystack/nodes/preprocessor/preprocessor.py:271\u001b[0m, in \u001b[0;36mPreProcessor._process_batch\u001b[0;34m(self, documents, id_hash_keys, **kwargs)\u001b[0m\n\u001b[1;32m    268\u001b[0m \u001b[39mdef\u001b[39;00m \u001b[39m_process_batch\u001b[39m(\n\u001b[1;32m    269\u001b[0m     \u001b[39mself\u001b[39m, documents: List[Union[\u001b[39mdict\u001b[39m, Document]], id_hash_keys: Optional[List[\u001b[39mstr\u001b[39m]] \u001b[39m=\u001b[39m \u001b[39mNone\u001b[39;00m, \u001b[39m*\u001b[39m\u001b[39m*\u001b[39mkwargs\n\u001b[1;32m    270\u001b[0m ) \u001b[39m-\u001b[39m\u001b[39m>\u001b[39m List[Document]:\n\u001b[0;32m--> 271\u001b[0m     nested_docs \u001b[39m=\u001b[39m [\n\u001b[1;32m    272\u001b[0m         \u001b[39mself\u001b[39m\u001b[39m.\u001b[39m_process_single(d, id_hash_keys\u001b[39m=\u001b[39mid_hash_keys, \u001b[39m*\u001b[39m\u001b[39m*\u001b[39mkwargs)\n\u001b[1;32m    273\u001b[0m         \u001b[39mfor\u001b[39;00m d \u001b[39min\u001b[39;00m tqdm(documents, disable\u001b[39m=\u001b[39m\u001b[39mnot\u001b[39;00m \u001b[39mself\u001b[39m\u001b[39m.\u001b[39mprogress_bar, desc\u001b[39m=\u001b[39m\u001b[39m\"\u001b[39m\u001b[39mPreprocessing\u001b[39m\u001b[39m\"\u001b[39m, unit\u001b[39m=\u001b[39m\u001b[39m\"\u001b[39m\u001b[39mdocs\u001b[39m\u001b[39m\"\u001b[39m)\n\u001b[1;32m    274\u001b[0m     ]\n\u001b[1;32m    275\u001b[0m     \u001b[39mreturn\u001b[39;00m [d \u001b[39mfor\u001b[39;00m x \u001b[39min\u001b[39;00m nested_docs \u001b[39mfor\u001b[39;00m d \u001b[39min\u001b[39;00m x]\n",
      "File \u001b[0;32m~/solarathon/lib/python3.10/site-packages/haystack/nodes/preprocessor/preprocessor.py:272\u001b[0m, in \u001b[0;36m<listcomp>\u001b[0;34m(.0)\u001b[0m\n\u001b[1;32m    268\u001b[0m \u001b[39mdef\u001b[39;00m \u001b[39m_process_batch\u001b[39m(\n\u001b[1;32m    269\u001b[0m     \u001b[39mself\u001b[39m, documents: List[Union[\u001b[39mdict\u001b[39m, Document]], id_hash_keys: Optional[List[\u001b[39mstr\u001b[39m]] \u001b[39m=\u001b[39m \u001b[39mNone\u001b[39;00m, \u001b[39m*\u001b[39m\u001b[39m*\u001b[39mkwargs\n\u001b[1;32m    270\u001b[0m ) \u001b[39m-\u001b[39m\u001b[39m>\u001b[39m List[Document]:\n\u001b[1;32m    271\u001b[0m     nested_docs \u001b[39m=\u001b[39m [\n\u001b[0;32m--> 272\u001b[0m         \u001b[39mself\u001b[39;49m\u001b[39m.\u001b[39;49m_process_single(d, id_hash_keys\u001b[39m=\u001b[39;49mid_hash_keys, \u001b[39m*\u001b[39;49m\u001b[39m*\u001b[39;49mkwargs)\n\u001b[1;32m    273\u001b[0m         \u001b[39mfor\u001b[39;00m d \u001b[39min\u001b[39;00m tqdm(documents, disable\u001b[39m=\u001b[39m\u001b[39mnot\u001b[39;00m \u001b[39mself\u001b[39m\u001b[39m.\u001b[39mprogress_bar, desc\u001b[39m=\u001b[39m\u001b[39m\"\u001b[39m\u001b[39mPreprocessing\u001b[39m\u001b[39m\"\u001b[39m, unit\u001b[39m=\u001b[39m\u001b[39m\"\u001b[39m\u001b[39mdocs\u001b[39m\u001b[39m\"\u001b[39m)\n\u001b[1;32m    274\u001b[0m     ]\n\u001b[1;32m    275\u001b[0m     \u001b[39mreturn\u001b[39;00m [d \u001b[39mfor\u001b[39;00m x \u001b[39min\u001b[39;00m nested_docs \u001b[39mfor\u001b[39;00m d \u001b[39min\u001b[39;00m x]\n",
      "File \u001b[0;32m~/solarathon/lib/python3.10/site-packages/haystack/nodes/preprocessor/preprocessor.py:264\u001b[0m, in \u001b[0;36mPreProcessor._process_single\u001b[0;34m(self, document, clean_whitespace, clean_header_footer, clean_empty_lines, remove_substrings, split_by, split_length, split_overlap, split_respect_sentence_boundary, id_hash_keys)\u001b[0m\n\u001b[1;32m    255\u001b[0m split_documents \u001b[39m=\u001b[39m \u001b[39mself\u001b[39m\u001b[39m.\u001b[39msplit(\n\u001b[1;32m    256\u001b[0m     document\u001b[39m=\u001b[39mcleaned_document,\n\u001b[1;32m    257\u001b[0m     split_by\u001b[39m=\u001b[39msplit_by,\n\u001b[0;32m   (...)\u001b[0m\n\u001b[1;32m    261\u001b[0m     id_hash_keys\u001b[39m=\u001b[39mid_hash_keys,\n\u001b[1;32m    262\u001b[0m )\n\u001b[0;32m--> 264\u001b[0m split_documents \u001b[39m=\u001b[39m \u001b[39mself\u001b[39;49m\u001b[39m.\u001b[39;49m_long_documents(split_documents, max_chars_check\u001b[39m=\u001b[39;49m\u001b[39mself\u001b[39;49m\u001b[39m.\u001b[39;49mmax_chars_check)\n\u001b[1;32m    266\u001b[0m \u001b[39mreturn\u001b[39;00m split_documents\n",
      "File \u001b[0;32m~/solarathon/lib/python3.10/site-packages/haystack/nodes/preprocessor/preprocessor.py:194\u001b[0m, in \u001b[0;36mPreProcessor._long_documents\u001b[0;34m(self, documents, max_chars_check)\u001b[0m\n\u001b[1;32m    193\u001b[0m \u001b[39mfor\u001b[39;00m document \u001b[39min\u001b[39;00m documents:\n\u001b[0;32m--> 194\u001b[0m     \u001b[39mif\u001b[39;00m \u001b[39mlen\u001b[39;49m(document\u001b[39m.\u001b[39;49mcontent) \u001b[39m>\u001b[39;49m max_chars_check:\n\u001b[1;32m    195\u001b[0m         logger\u001b[39m.\u001b[39mwarning(\n\u001b[1;32m    196\u001b[0m             \u001b[39m\"\u001b[39m\u001b[39mDocument \u001b[39m\u001b[39m%s\u001b[39;00m\u001b[39m is \u001b[39m\u001b[39m%s\u001b[39;00m\u001b[39m characters long after preprocessing, where the maximum length should be \u001b[39m\u001b[39m%s\u001b[39;00m\u001b[39m. \u001b[39m\u001b[39m\"\u001b[39m\n\u001b[1;32m    197\u001b[0m             \u001b[39m\"\u001b[39m\u001b[39mSomething might be wrong with the splitting, check the document affected to prevent issues at \u001b[39m\u001b[39m\"\u001b[39m\n\u001b[0;32m   (...)\u001b[0m\n\u001b[1;32m    202\u001b[0m             max_chars_check,\n\u001b[1;32m    203\u001b[0m         )\n",
      "\u001b[0;31mTypeError\u001b[0m: '>' not supported between instances of 'int' and 'NoneType'",
      "\nThe above exception was the direct cause of the following exception:\n",
      "\u001b[0;31mException\u001b[0m                                 Traceback (most recent call last)",
      "\u001b[1;32m/home/silvhua/repositories/solarathon-faq-creator/notebooks/silvia 2023-11-20 Haystack experiment.ipynb Cell 10\u001b[0m line \u001b[0;36m6\n\u001b[1;32m      <a href='vscode-notebook-cell://wsl%2Bubuntu/home/silvhua/repositories/solarathon-faq-creator/notebooks/silvia%202023-11-20%20Haystack%20experiment.ipynb#X13sdnNjb2RlLXJlbW90ZQ%3D%3D?line=2'>3</a>\u001b[0m p\u001b[39m.\u001b[39madd_node(component\u001b[39m=\u001b[39mpreprocessor, name\u001b[39m=\u001b[39m\u001b[39m\"\u001b[39m\u001b[39mPreProcessor\u001b[39m\u001b[39m\"\u001b[39m, inputs\u001b[39m=\u001b[39m[\u001b[39m\"\u001b[39m\u001b[39mTextConverter\u001b[39m\u001b[39m\"\u001b[39m])\n\u001b[1;32m      <a href='vscode-notebook-cell://wsl%2Bubuntu/home/silvhua/repositories/solarathon-faq-creator/notebooks/silvia%202023-11-20%20Haystack%20experiment.ipynb#X13sdnNjb2RlLXJlbW90ZQ%3D%3D?line=3'>4</a>\u001b[0m p\u001b[39m.\u001b[39madd_node(component\u001b[39m=\u001b[39mdocument_store, name\u001b[39m=\u001b[39m\u001b[39m\"\u001b[39m\u001b[39mDocumentStore\u001b[39m\u001b[39m\"\u001b[39m, inputs\u001b[39m=\u001b[39m[\u001b[39m\"\u001b[39m\u001b[39mPreProcessor\u001b[39m\u001b[39m\"\u001b[39m])\n\u001b[0;32m----> <a href='vscode-notebook-cell://wsl%2Bubuntu/home/silvhua/repositories/solarathon-faq-creator/notebooks/silvia%202023-11-20%20Haystack%20experiment.ipynb#X13sdnNjb2RlLXJlbW90ZQ%3D%3D?line=5'>6</a>\u001b[0m p\u001b[39m.\u001b[39;49mrun(file_paths\u001b[39m=\u001b[39;49m[\u001b[39mf\u001b[39;49m\u001b[39m\"\u001b[39;49m\u001b[39m{\u001b[39;49;00mpath\u001b[39m}\u001b[39;49;00m\u001b[39m/journal_article.txt\u001b[39;49m\u001b[39m\"\u001b[39;49m])\n",
      "File \u001b[0;32m~/solarathon/lib/python3.10/site-packages/haystack/pipelines/base.py:574\u001b[0m, in \u001b[0;36mPipeline.run\u001b[0;34m(self, query, file_paths, labels, documents, meta, params, debug)\u001b[0m\n\u001b[1;32m    570\u001b[0m \u001b[39mexcept\u001b[39;00m \u001b[39mException\u001b[39;00m \u001b[39mas\u001b[39;00m e:\n\u001b[1;32m    571\u001b[0m     \u001b[39m# The input might be a really large object with thousands of embeddings.\u001b[39;00m\n\u001b[1;32m    572\u001b[0m     \u001b[39m# If you really want to see it, raise the log level.\u001b[39;00m\n\u001b[1;32m    573\u001b[0m     logger\u001b[39m.\u001b[39mdebug(\u001b[39m\"\u001b[39m\u001b[39mException while running node \u001b[39m\u001b[39m'\u001b[39m\u001b[39m%s\u001b[39;00m\u001b[39m'\u001b[39m\u001b[39m with input \u001b[39m\u001b[39m%s\u001b[39;00m\u001b[39m\"\u001b[39m, node_id, node_input)\n\u001b[0;32m--> 574\u001b[0m     \u001b[39mraise\u001b[39;00m \u001b[39mException\u001b[39;00m(\n\u001b[1;32m    575\u001b[0m         \u001b[39mf\u001b[39m\u001b[39m\"\u001b[39m\u001b[39mException while running node \u001b[39m\u001b[39m'\u001b[39m\u001b[39m{\u001b[39;00mnode_id\u001b[39m}\u001b[39;00m\u001b[39m'\u001b[39m\u001b[39m: \u001b[39m\u001b[39m{\u001b[39;00me\u001b[39m}\u001b[39;00m\u001b[39m\\n\u001b[39;00m\u001b[39mEnable debug logging to see the data that was passed when the pipeline failed.\u001b[39m\u001b[39m\"\u001b[39m\n\u001b[1;32m    576\u001b[0m     ) \u001b[39mfrom\u001b[39;00m \u001b[39me\u001b[39;00m\n\u001b[1;32m    577\u001b[0m queue\u001b[39m.\u001b[39mpop(node_id)\n\u001b[1;32m    578\u001b[0m \u001b[39m#\u001b[39;00m\n",
      "\u001b[0;31mException\u001b[0m: Exception while running node 'PreProcessor': '>' not supported between instances of 'int' and 'NoneType'\nEnable debug logging to see the data that was passed when the pipeline failed."
     ]
    }
   ],
   "source": [
    "\n",
    "\n",
    "p = Pipeline()\n",
    "p.add_node(component=text_converter, name=\"TextConverter\", inputs=[\"File\"])\n",
    "p.add_node(component=preprocessor, name=\"PreProcessor\", inputs=[\"TextConverter\"])\n",
    "p.add_node(component=document_store, name=\"DocumentStore\", inputs=[\"PreProcessor\"])\n",
    "\n",
    "p.run(file_paths=[f\"{path}/journal_article.txt\"])"
   ]
  },
  {
   "cell_type": "markdown",
   "metadata": {},
   "source": [
    "## Iteration 2"
   ]
  },
  {
   "cell_type": "code",
   "execution_count": 1,
   "metadata": {},
   "outputs": [
    {
     "name": "stderr",
     "output_type": "stream",
     "text": [
      "None of PyTorch, TensorFlow >= 2.0, or Flax have been found. Models won't be available and only tokenizers, configuration and file/data utilities can be used.\n"
     ]
    }
   ],
   "source": [
    "from haystack.pipelines import Pipeline\n",
    "from haystack.nodes import TextConverter\n",
    "from haystack.nodes import PreProcessor\n",
    "from haystack.document_stores import FAISSDocumentStore"
   ]
  },
  {
   "cell_type": "code",
   "execution_count": 5,
   "metadata": {},
   "outputs": [],
   "source": [
    "import logging\n",
    "\n",
    "logging.basicConfig(format=\"%(levelname)s - %(name)s -  %(message)s\", level=logging.WARNING)\n",
    "logging.getLogger(\"haystack\").setLevel(logging.INFO)\n"
   ]
  },
  {
   "cell_type": "code",
   "execution_count": 10,
   "metadata": {},
   "outputs": [],
   "source": [
    "\n",
    "text_converter = TextConverter() # https://docs.haystack.deepset.ai/docs/file_converters\n",
    "\n",
    "preprocessor = PreProcessor( # https://docs.haystack.deepset.ai/docs/preprocessor\n",
    "    clean_empty_lines=True,\n",
    "    clean_whitespace=True,\n",
    "    clean_header_footer=True,\n",
    "  \tremove_substrings=None,\n",
    "    split_by='word', # Unit for splitting the document. Can be \"word\", \"sentence\", or \"passage\". Set to None to disable splitting.\n",
    "    split_length=200,\n",
    "    split_respect_sentence_boundary=True,\n",
    "    split_overlap=0,\n",
    "  \tmax_chars_check = 10000\n",
    ")"
   ]
  },
  {
   "cell_type": "code",
   "execution_count": 11,
   "metadata": {},
   "outputs": [],
   "source": [
    "from datetime import datetime\n",
    "\n",
    "def append_timestamp(string):\n",
    "    timestamp = datetime.now().strftime(\"%Y-%m-%d_%H%M\")\n",
    "    return f'{string}_{timestamp}' \n",
    "\n",
    "index_filename = append_timestamp('journal_article_index')\n",
    "config_filename = append_timestamp('journal_article_config')\n",
    "path = '../data'\n",
    "document_store = FAISSDocumentStore(faiss_index_factory_str=\"Flat\")\n",
    "document_store.save(index_path=f'{path}/{index_filename}', config_path=f'{path}/{config_filename}')"
   ]
  },
  {
   "cell_type": "code",
   "execution_count": 12,
   "metadata": {},
   "outputs": [
    {
     "name": "stderr",
     "output_type": "stream",
     "text": [
      "\n",
      "Converting files: 100%|██████████| 1/1 [00:00<00:00, 57.32it/s]\n",
      "\n",
      "Preprocessing: 100%|██████████| 1/1 [00:00<00:00, 75.31docs/s]\n",
      "Writing Documents: 10000it [00:00, 77521.42it/s]         \n"
     ]
    },
    {
     "data": {
      "text/plain": [
       "{'documents': [<Document: {'content': 'High doses of anti-inflammatory drugs compromise muscle strength and hypertrophic adaptations to resistance training in young adults.\\n\\nDiscussion\\nThe interest in this study was spurred by the intriguing observation that while NSAIDs might have a negative impact on acute exercise responses (satellite cell activity, translational signalling and protein synthesis), previous human studies have failed to demonstrate a detrimental effect of NSAIDs on the development of muscle hypertrophy in response to chronic resistance training in young adults, possibly due to differences in drug dosage across studies. Accordingly, in the current study, healthy young men and women performed 8 weeks of supervised resistance training with concomitant high- or low-dose NSAID treatment. The major and novel findings were that 1) maximal overthe-counter doses of ibuprofen compromised resistance exercise-induced muscle hypertropy\\nindependent of training mode; 2) increases in muscle strength were attenuated by ibuprofen only when training was performed with maximal all-out repetitions; 3) while the resistance-training intervention resulted in several muscle molecular adaptations, the only marked difference across medical treatment was a significant ibuprofen-induced downregulation of the inflammatory cytokine IL-6 mRNA, compared with an upregulation in the ASA group. ', 'content_type': 'text', 'score': None, 'meta': {'_split_id': 0}, 'id_hash_keys': ['content'], 'embedding': None, 'id': 'e3cfe1ad0dd4403c22cf887628e05d0d'}>,\n",
       "  <Document: {'content': 'This is the first study showing that daily consumption of high doses of NSAIDs attenuates strength and muscle hypertrophic adaptations to resistance training in young healthy individuals. We acknowledge that a limitation of the current study was that we did not include a non-treated control group. However, the increase in muscle volume (7.5%) in the ASA group was of a similar, and expected, magnitude to that previously reported by our group20 and others.21,22 In the light of this, the magnitude of the reduction in muscle hypertrophy in response to the ibuprofen treatment was quite remarkable and, if anything, should the ASA treatment have had a small effect on the adaptive response, it would only have masked an even greater difference across groups than what is reported herein. Nonetheless, given the marked effect of ibuprofen and the fact that the increase in muscle size in the control group (0.14% per day) was of similar magnitude as the average rate of hypertrophy reported in past studies employing knee-extensor resistance training,23 we are confident that our data provide strong proof-of-principle evidence that the effect of NSAIDs on muscle adaptations to resistance exercise is dependent of the dose of intake. ', 'content_type': 'text', 'score': None, 'meta': {'_split_id': 1}, 'id_hash_keys': ['content'], 'embedding': None, 'id': '9f03dd141f35b20f06858616b84ff8e8'}>,\n",
       "  <Document: {'content': 'The rationale for using acetylsalicylic acid instead of ibuprofen as a low-dose comparator in the current study was based on the fact that when the drug is consumed orally, it undergoes substantial presystemic hydrolysis in the gut and liver before it enters the systemic bloodstream. As the drug will, however, encounter blood in the portal circulation, low doses of acetylsalicylic acid will exert its antiplatelet effect with no or limited effect on systemic targets such as peripheral tissue.1618 Consequently, the potential circulatory effects are factored out and we hypothesize that the negative effect of ibuprofen was due to muscle-specific COX inhibition rather than the antiplatelet effect achieved by both ibuprofen and low doses of acetylsalicylic acid.18,24 The results of the present study are in agreement with animal studies showing an inhibitory effect of COX inhibitors on muscle hypertrophy.8,9,25 They also agree with acute human data reporting attenuated protein synthesis,5 translational signalling13 and satellite cell activity11,12 in response to resistance training with concomitant high-dose NSAID administration. ', 'content_type': 'text', 'score': None, 'meta': {'_split_id': 2}, 'id_hash_keys': ['content'], 'embedding': None, 'id': '937845e3e2e0893de2c64aa2346a87bc'}>,\n",
       "  <Document: {'content': 'Our hypothesis of a dose-dependent effect is also supported by the only comparable training study in young healthy subjects.14 That particular study reported no effect of ibuprofen on muscle hypertrophy or strength gains after 6 weeks of training consisting of six sets of biceps curls 23 days week---------------1 . The drug dose was consumed on training days only, resulting in a total intake of 8001200 mg week---------------1 , 14 compared with 1200 mg per day in the current study. This indeed highlights the potential importance of drug dosage where, evidently, intake of maximal over-the-counter doses is potent enough to interfere with the normal hypertrophic development of 0.10.2% per day seen in the ASA group as well as in other studies employing conventional resistance-training programmes for the knee extensors.23 It is generally agreed that repeated increases in muscle protein synthesis following each exercise bout is the most important mechanism underlying training-induced muscle hypertrophy.26,27 Thus, it seems plausible to suggest that the main explanation for the clear attenuation of hypertrophy, which was evident in both training modes (FW and WS), was diminished prostaglandin production and hence decreased muscle protein synthetic response after each training session in the IBU group. ', 'content_type': 'text', 'score': None, 'meta': {'_split_id': 3}, 'id_hash_keys': ['content'], 'embedding': None, 'id': '6b3fa676076b3213afc1c1351125f3fd'}>,\n",
       "  <Document: {'content': 'Indeed, there is increasing evidence that COX and prostaglandins play an important role in regulating the molecular events controlling muscle hypertrophy. For example, C2C12 myotube diameter was shown to be regulated by PGF2a in an mTORdependent manner7 , and exercise-induced increases in p70S6K (downstream of mTOR) was blunted by ibuprofen treatment in the early hours following acute resistance exercise.13 In the current study, however, there were no group interactions for any of the target proteins examined, suggesting that the ibuprofenmodulating effect on muscle adaptations is not associated with differential expression of steady-state proteins in response to chronic training. Perhaps assessing satellite cell content,11 or the phosphorylation levels of translational signalling proteins in response to acute exercise,13 would have provided more mechanistic insights. We measured several key molecular markers for COX and prostaglandin-mediated metabolism, regulators of muscle growth and atrophy, and several cytokines and myokines that have been shown to regulate skeletal muscle protein metabolism and exercise adaptations.4 The most clear-cut molecular evidence for an effect of ibuprofen on peripheral muscle tissue was the marked drug effect on IL-6 mRNA, where levels in the ibuprofen group were downregulated despite a significant upregulation in the control group. ', 'content_type': 'text', 'score': None, 'meta': {'_split_id': 4}, 'id_hash_keys': ['content'], 'embedding': None, 'id': 'c651ca9fccf9682c8b6d9e7601adf6c3'}>,\n",
       "  <Document: {'content': 'The reduction of IL-6 in the ibuprofen group is coherent with previous studies suggesting PGE2 as a stimulator of IL-6 transcription in both human muscle28 and other cell types.29 It has previously been reported that the NSAID-modulating effects on muscle hypertrophy in older subjects were associated with lowered expression of IL-6 and subsequently MuRF-1, resulting in a more beneficial cellular environment for muscle growth.30 While our data are coherent with that of Trappe and colleagues regarding the expression of IL-6 in the ibuprofen-treated group (downregulated) compared to the control group (upregulated), the muscle hypertrophy data certainly contradict these findings. In that study, elderly subjects (6078 years) performed 12 weeks of resistance training with simultaneous daily ibuprofen treatment of 1200 mg. The increase in muscle size was substantially greater with ibuprofen compared with placebo,15 and this was supported by acute data showing no interference of ibuprofen on muscle protein synthesis in the same age group.31 Thus, interestingly, there may be distinct differences in the response to resistance training and NSAID consumption in the young vs. the elderly, and probably also in the mechanistic underpinnings of exercise-induced tissue remodelling in these age groups. ', 'content_type': 'text', 'score': None, 'meta': {'_split_id': 5}, 'id_hash_keys': ['content'], 'embedding': None, 'id': 'f96bc8151d3a46ffd809c25dce304cb3'}>,\n",
       "  <Document: {'content': 'Specifically, in the present cohort of young subjects, it is possible that blunting of important inflammatory processes, as reflected by the downregulated IL-6 gene expression, contributed to the attenuated hypertrophic response because previous studies have shown that induction of IL-6, and also other inflammatory and proteolytic factors, has an important role in muscle regenerative processes during hypertrophic conditions.32,33 In contrast, the role of inflammatory processes may be different in the elderly where an ibuprofen-induced downregulation of IL-6 could reduce chronic low-grade inflammation and thereby restore the blunted anabolic response to resistance exercise typically seen in aged populations.34 Thus, based on the current data and given the complex regulation of mRNA and protein levels,35,36 future studies should directly compare the response to resistance exercise and NSAID treatment in young vs. old populations as well as incorporate better time resolution, including both acute and chronic biopsy time points and perhaps also higher-throughput techniques, to provide more conclusive evidence of the critical mechanisms regulating the interactive effects of NSAIDs and resistance exercise on muscle adaptations. The functional data showed that increases in muscle strength were attenuated in IBU compared with ASA, but only in the FW leg. ', 'content_type': 'text', 'score': None, 'meta': {'_split_id': 6}, 'id_hash_keys': ['content'], 'embedding': None, 'id': '42216c075af8cabf3a5111ca99dcb1d3'}>,\n",
       "  <Document: {'content': 'In our mind, this leads to two questions: first, if this strength difference was explained by the larger increase in muscle size in the control group, why was strength not reduced in the WS leg? Second, if not muscle size, what other mechanisms could explain the fact that strength was negatively affected by ibuprofen only in the FW leg? Regarding the first question, although muscle mass and strength are generally highly correlated at baseline in pre-training situations,37,38 the same does not necessarily apply when it comes to increases in strength and muscle size following short-term resistance training.39,40 This was also the case in the current study, where in fact the correlation between changes in muscle size and strength was very weak (R2 ~0.05; data not shown). Thus, it appears that strength gains can occur irrespective of the magnitude of increase in muscle volume and hence, this could explain why, in the WS leg, the larger increase in muscle volume for the ASA group did not result in a larger increase in strength compared with IBU. ', 'content_type': 'text', 'score': None, 'meta': {'_split_id': 7}, 'id_hash_keys': ['content'], 'embedding': None, 'id': 'c6c2a4024fa20fea64379bdf0a683601'}>,\n",
       "  <Document: {'content': 'It is plausible that with longer-term training, once neural adaptations have plateaued,41 the relationship between muscle size and strength would be restored and hence the negative effect of ibuprofen on strength would be even more evident. As to the second question raised above, we did speculate beforehand that perhaps NSAID consumption could affect acute training performance and thereby the capacity to perform high-intensity repetitive work bouts. It appeared at first that the strength reduction in the FW leg was not related to a reduction in day-to-day training performance, as both groups performed an equal amount of work throughout the 8-week training programme. Interestingly, however, a closer look at the data in Figure 1 reveals that the ibuprofen group certainly showed a levelling-off effect during the last week of flywheel training, which likely explains the lower strength gains noted. Regarding the logical follow-up question of why training performance in the FW leg was negatively affected by ibuprofen only at the end of the training period, we are unable to provide a definite answer. ', 'content_type': 'text', 'score': None, 'meta': {'_split_id': 8}, 'id_hash_keys': ['content'], 'embedding': None, 'id': '8d9cbed293377278205a1e2640fb8c6a'}>,\n",
       "  <Document: {'content': 'However, given that the main differences between the two training modes is the eccentric overload, provoking greater inflammatory stimulus, and the maximal unlimited resistance provided by the flywheel device,21,42 it is tempting to speculate that one (or both) of these two features are particularly prone to ibuprofen treatment, at least after a few weeks of accumulated training. It should also be noted that day-to-day performance levels varied much more in the FW leg, indicating that this training regime was more stressful for the subjects. Alternatively, as indicated earlier, the relationship between muscle mass and strength became more important at the end of the training period, and hence, the levelling-off phenomenon in the IBU group was due to the compromised hypertrophic development. Altogether, based on the current data and given the knowledge of different time resolutions for the underlying mechanisms of muscle strength, longer training studies could clarify whether interference in muscle growth will be associated with reduced muscle strength, and whether different training modes, such as eccentric overload, are even more sensitive to concomitant NSAID treatment. ', 'content_type': 'text', 'score': None, 'meta': {'_split_id': 9}, 'id_hash_keys': ['content'], 'embedding': None, 'id': 'f90fc8fc74c749f93a76eae3bef7c949'}>,\n",
       "  <Document: {'content': 'Notwithstanding, our findings raise the concern that resistance-training studies employing strict work-matched increases across groups might overlook important effects of various factors such as medical treatments or supplements that would have become evident if maximal efforts had been allowed throughout each set and training session. In summary, we show for the first time that maximal over-the-counter doses of NSAIDs compromise resistance exercise-induced increases in muscle size and strength in young adults. The gains in muscle size were attenuated by ibuprofen independent of the type of training performed, whereas muscle strength was attenuated only when training was performed with maximal all-out repetitions. Furthermore, while the resistance-training intervention resulted in several muscle molecular adaptations, the only marked difference across medical treatment was a significant ibuprofen-induced reduction in IL-6 gene expression, which in our mind reflected a changed inflammatory environment that, speculatively, contributed to the attenuated hypertrophic development in the ibuprofen group. This study improves our understanding of how NSAIDs work and interacts with chronic exercise responses, and considering the potency of the drug to modify muscle mass and function, the mechanistic findings should contribute to a better understanding of regulation of muscle growth in general. ', 'content_type': 'text', 'score': None, 'meta': {'_split_id': 10}, 'id_hash_keys': ['content'], 'embedding': None, 'id': '476c11af836814b3a015f4af59459fb5'}>,\n",
       "  <Document: {'content': 'More importantly, however, the results have implications for the millions of individuals worldwide who consume NSAIDs on a regular basis while trying to obtain the best possible benefits of resistance training.', 'content_type': 'text', 'score': None, 'meta': {'_split_id': 11}, 'id_hash_keys': ['content'], 'embedding': None, 'id': '85172055bbda9fd706e8a5f5d0587207'}>],\n",
       " 'root_node': 'File',\n",
       " 'params': {},\n",
       " 'file_paths': ['../data/journal_article.txt'],\n",
       " 'node_id': 'DocumentStore'}"
      ]
     },
     "execution_count": 12,
     "metadata": {},
     "output_type": "execute_result"
    }
   ],
   "source": [
    "\n",
    "\n",
    "p = Pipeline()\n",
    "p.add_node(component=text_converter, name=\"TextConverter\", inputs=[\"File\"])\n",
    "p.add_node(component=preprocessor, name=\"PreProcessor\", inputs=[\"TextConverter\"])\n",
    "p.add_node(component=document_store, name=\"DocumentStore\", inputs=[\"PreProcessor\"])\n",
    "\n",
    "p.run(file_paths=[f\"{path}/journal_article.txt\"])"
   ]
  },
  {
   "cell_type": "code",
   "execution_count": 13,
   "metadata": {},
   "outputs": [],
   "source": [
    "!mv faiss_document_store.db ../data/testing"
   ]
  },
  {
   "cell_type": "markdown",
   "metadata": {},
   "source": [
    "# End of Page"
   ]
  }
 ],
 "metadata": {
  "kernelspec": {
   "display_name": "solarathon",
   "language": "python",
   "name": "solarathon"
  },
  "language_info": {
   "codemirror_mode": {
    "name": "ipython",
    "version": 3
   },
   "file_extension": ".py",
   "mimetype": "text/x-python",
   "name": "python",
   "nbconvert_exporter": "python",
   "pygments_lexer": "ipython3",
   "version": "3.10.12"
  }
 },
 "nbformat": 4,
 "nbformat_minor": 2
}
